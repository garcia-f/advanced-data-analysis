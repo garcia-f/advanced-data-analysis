{
 "cells": [
  {
   "cell_type": "markdown",
   "metadata": {},
   "source": [
    "# Introducción a Pandas"
   ]
  },
  {
   "cell_type": "markdown",
   "metadata": {},
   "source": [
    "[Pandas](https://pandas.pydata.org/about/index.html) es una librería que proporciona estructuras de datos y herramientas de análisis de datos de alto rendimiento y fáciles de usar. \n",
    "* La estructura de datos principal es el DataFrame, que puede considerarse como una tabla 2D en memoria (como una hoja de cálculo, con nombres de columna y etiquetas de fila). \n",
    "* Muchas funciones disponibles en Excel están disponibles mediante programación, como crear tablas dinámicas, calcular columnas basadas en otras columnas, trazar gráficos, etc.\n",
    "* Proporciona un alto rendimiento para manipular (unir, dividir, modificar…) grandes conjuntos de datos"
   ]
  },
  {
   "cell_type": "markdown",
   "metadata": {},
   "source": [
    "## Import"
   ]
  },
  {
   "cell_type": "code",
   "execution_count": 3,
   "metadata": {},
   "outputs": [
    {
     "name": "stdout",
     "output_type": "stream",
     "text": [
      "Collecting pandas\n",
      "  Using cached pandas-2.2.2-cp312-cp312-win_amd64.whl.metadata (19 kB)\n",
      "Collecting numpy>=1.26.0 (from pandas)\n",
      "  Downloading numpy-2.0.1-cp312-cp312-win_amd64.whl.metadata (60 kB)\n",
      "     ---------------------------------------- 0.0/60.9 kB ? eta -:--:--\n",
      "     ------ --------------------------------- 10.2/60.9 kB ? eta -:--:--\n",
      "     ------------ ------------------------- 20.5/60.9 kB 217.9 kB/s eta 0:00:01\n",
      "     ------------------------------- ------ 51.2/60.9 kB 372.4 kB/s eta 0:00:01\n",
      "     -------------------------------------- 60.9/60.9 kB 359.3 kB/s eta 0:00:00\n",
      "Requirement already satisfied: python-dateutil>=2.8.2 in c:\\users\\ipfno\\appdata\\roaming\\python\\python312\\site-packages (from pandas) (2.9.0.post0)\n",
      "Collecting pytz>=2020.1 (from pandas)\n",
      "  Using cached pytz-2024.1-py2.py3-none-any.whl.metadata (22 kB)\n",
      "Collecting tzdata>=2022.7 (from pandas)\n",
      "  Using cached tzdata-2024.1-py2.py3-none-any.whl.metadata (1.4 kB)\n",
      "Requirement already satisfied: six>=1.5 in c:\\users\\ipfno\\appdata\\roaming\\python\\python312\\site-packages (from python-dateutil>=2.8.2->pandas) (1.16.0)\n",
      "Using cached pandas-2.2.2-cp312-cp312-win_amd64.whl (11.5 MB)\n",
      "Downloading numpy-2.0.1-cp312-cp312-win_amd64.whl (16.3 MB)\n",
      "   ---------------------------------------- 0.0/16.3 MB ? eta -:--:--\n",
      "   ---------------------------------------- 0.0/16.3 MB 991.0 kB/s eta 0:00:17\n",
      "   ---------------------------------------- 0.1/16.3 MB 1.1 MB/s eta 0:00:16\n",
      "   ---------------------------------------- 0.1/16.3 MB 1.1 MB/s eta 0:00:16\n",
      "    --------------------------------------- 0.3/16.3 MB 1.8 MB/s eta 0:00:10\n",
      "    --------------------------------------- 0.3/16.3 MB 1.5 MB/s eta 0:00:11\n",
      "   - -------------------------------------- 0.4/16.3 MB 1.5 MB/s eta 0:00:11\n",
      "   - -------------------------------------- 0.5/16.3 MB 1.7 MB/s eta 0:00:10\n",
      "   - -------------------------------------- 0.7/16.3 MB 1.9 MB/s eta 0:00:09\n",
      "   -- ------------------------------------- 0.9/16.3 MB 2.1 MB/s eta 0:00:08\n",
      "   -- ------------------------------------- 1.0/16.3 MB 2.3 MB/s eta 0:00:07\n",
      "   -- ------------------------------------- 1.2/16.3 MB 2.5 MB/s eta 0:00:07\n",
      "   --- ------------------------------------ 1.3/16.3 MB 2.4 MB/s eta 0:00:07\n",
      "   --- ------------------------------------ 1.3/16.3 MB 2.2 MB/s eta 0:00:07\n",
      "   --- ------------------------------------ 1.4/16.3 MB 2.3 MB/s eta 0:00:07\n",
      "   --- ------------------------------------ 1.5/16.3 MB 2.2 MB/s eta 0:00:07\n",
      "   ---- ----------------------------------- 1.8/16.3 MB 2.5 MB/s eta 0:00:06\n",
      "   ---- ----------------------------------- 2.0/16.3 MB 2.6 MB/s eta 0:00:06\n",
      "   ---- ----------------------------------- 2.0/16.3 MB 2.5 MB/s eta 0:00:06\n",
      "   ---- ----------------------------------- 2.0/16.3 MB 2.5 MB/s eta 0:00:06\n",
      "   ----- ---------------------------------- 2.2/16.3 MB 2.3 MB/s eta 0:00:07\n",
      "   ----- ---------------------------------- 2.4/16.3 MB 2.5 MB/s eta 0:00:06\n",
      "   ------ --------------------------------- 2.6/16.3 MB 2.5 MB/s eta 0:00:06\n",
      "   ------ --------------------------------- 2.7/16.3 MB 2.6 MB/s eta 0:00:06\n",
      "   ------- -------------------------------- 2.9/16.3 MB 2.6 MB/s eta 0:00:06\n",
      "   ------- -------------------------------- 2.9/16.3 MB 2.6 MB/s eta 0:00:06\n",
      "   ------- -------------------------------- 3.2/16.3 MB 2.6 MB/s eta 0:00:05\n",
      "   -------- ------------------------------- 3.6/16.3 MB 2.8 MB/s eta 0:00:05\n",
      "   -------- ------------------------------- 3.6/16.3 MB 2.8 MB/s eta 0:00:05\n",
      "   --------- ------------------------------ 3.8/16.3 MB 2.8 MB/s eta 0:00:05\n",
      "   --------- ------------------------------ 4.0/16.3 MB 2.8 MB/s eta 0:00:05\n",
      "   ---------- ----------------------------- 4.1/16.3 MB 2.9 MB/s eta 0:00:05\n",
      "   ---------- ----------------------------- 4.2/16.3 MB 2.9 MB/s eta 0:00:05\n",
      "   ---------- ----------------------------- 4.4/16.3 MB 2.9 MB/s eta 0:00:05\n",
      "   ----------- ---------------------------- 4.5/16.3 MB 2.9 MB/s eta 0:00:05\n",
      "   ----------- ---------------------------- 4.7/16.3 MB 2.9 MB/s eta 0:00:04\n",
      "   ----------- ---------------------------- 4.7/16.3 MB 2.9 MB/s eta 0:00:05\n",
      "   ------------ --------------------------- 4.9/16.3 MB 2.8 MB/s eta 0:00:04\n",
      "   ------------ --------------------------- 5.1/16.3 MB 2.9 MB/s eta 0:00:04\n",
      "   ------------ --------------------------- 5.1/16.3 MB 2.9 MB/s eta 0:00:04\n",
      "   ------------ --------------------------- 5.2/16.3 MB 2.8 MB/s eta 0:00:04\n",
      "   ------------- -------------------------- 5.4/16.3 MB 2.8 MB/s eta 0:00:04\n",
      "   ------------- -------------------------- 5.4/16.3 MB 2.7 MB/s eta 0:00:04\n",
      "   ------------- -------------------------- 5.4/16.3 MB 2.7 MB/s eta 0:00:04\n",
      "   ------------- -------------------------- 5.6/16.3 MB 2.7 MB/s eta 0:00:04\n",
      "   -------------- ------------------------- 6.0/16.3 MB 2.9 MB/s eta 0:00:04\n",
      "   --------------- ------------------------ 6.1/16.3 MB 2.9 MB/s eta 0:00:04\n",
      "   --------------- ------------------------ 6.2/16.3 MB 2.8 MB/s eta 0:00:04\n",
      "   --------------- ------------------------ 6.3/16.3 MB 2.8 MB/s eta 0:00:04\n",
      "   --------------- ------------------------ 6.3/16.3 MB 2.8 MB/s eta 0:00:04\n",
      "   ---------------- ----------------------- 6.7/16.3 MB 2.9 MB/s eta 0:00:04\n",
      "   ----------------- ---------------------- 6.9/16.3 MB 2.9 MB/s eta 0:00:04\n",
      "   ----------------- ---------------------- 7.0/16.3 MB 2.9 MB/s eta 0:00:04\n",
      "   ------------------ --------------------- 7.5/16.3 MB 3.0 MB/s eta 0:00:03\n",
      "   ------------------ --------------------- 7.6/16.3 MB 3.0 MB/s eta 0:00:03\n",
      "   ------------------- -------------------- 7.8/16.3 MB 3.1 MB/s eta 0:00:03\n",
      "   ------------------- -------------------- 8.0/16.3 MB 3.1 MB/s eta 0:00:03\n",
      "   -------------------- ------------------- 8.2/16.3 MB 3.1 MB/s eta 0:00:03\n",
      "   -------------------- ------------------- 8.3/16.3 MB 3.1 MB/s eta 0:00:03\n",
      "   -------------------- ------------------- 8.4/16.3 MB 3.1 MB/s eta 0:00:03\n",
      "   -------------------- ------------------- 8.5/16.3 MB 3.1 MB/s eta 0:00:03\n",
      "   --------------------- ------------------ 8.7/16.3 MB 3.1 MB/s eta 0:00:03\n",
      "   ---------------------- ----------------- 9.1/16.3 MB 3.2 MB/s eta 0:00:03\n",
      "   ---------------------- ----------------- 9.3/16.3 MB 3.2 MB/s eta 0:00:03\n",
      "   ----------------------- ---------------- 9.6/16.3 MB 3.2 MB/s eta 0:00:03\n",
      "   ------------------------ --------------- 9.8/16.3 MB 3.3 MB/s eta 0:00:02\n",
      "   ------------------------ --------------- 10.0/16.3 MB 3.3 MB/s eta 0:00:02\n",
      "   ------------------------ --------------- 10.0/16.3 MB 3.2 MB/s eta 0:00:02\n",
      "   ------------------------- -------------- 10.4/16.3 MB 3.4 MB/s eta 0:00:02\n",
      "   -------------------------- ------------- 10.6/16.3 MB 3.4 MB/s eta 0:00:02\n",
      "   -------------------------- ------------- 10.6/16.3 MB 3.4 MB/s eta 0:00:02\n",
      "   -------------------------- ------------- 10.6/16.3 MB 3.4 MB/s eta 0:00:02\n",
      "   -------------------------- ------------- 10.6/16.3 MB 3.4 MB/s eta 0:00:02\n",
      "   -------------------------- ------------- 10.6/16.3 MB 3.4 MB/s eta 0:00:02\n",
      "   -------------------------- ------------- 10.6/16.3 MB 3.4 MB/s eta 0:00:02\n",
      "   --------------------------- ------------ 11.3/16.3 MB 3.4 MB/s eta 0:00:02\n",
      "   ---------------------------- ----------- 11.4/16.3 MB 3.4 MB/s eta 0:00:02\n",
      "   ---------------------------- ----------- 11.7/16.3 MB 3.5 MB/s eta 0:00:02\n",
      "   ----------------------------- ---------- 11.9/16.3 MB 3.5 MB/s eta 0:00:02\n",
      "   ----------------------------- ---------- 12.1/16.3 MB 3.5 MB/s eta 0:00:02\n",
      "   ------------------------------ --------- 12.3/16.3 MB 3.6 MB/s eta 0:00:02\n",
      "   ------------------------------ --------- 12.4/16.3 MB 3.6 MB/s eta 0:00:02\n",
      "   ------------------------------ --------- 12.5/16.3 MB 3.6 MB/s eta 0:00:02\n",
      "   ------------------------------ --------- 12.6/16.3 MB 3.5 MB/s eta 0:00:02\n",
      "   ------------------------------- -------- 12.7/16.3 MB 3.5 MB/s eta 0:00:01\n",
      "   ------------------------------- -------- 13.0/16.3 MB 3.6 MB/s eta 0:00:01\n",
      "   -------------------------------- ------- 13.1/16.3 MB 3.6 MB/s eta 0:00:01\n",
      "   -------------------------------- ------- 13.3/16.3 MB 3.6 MB/s eta 0:00:01\n",
      "   --------------------------------- ------ 13.5/16.3 MB 3.6 MB/s eta 0:00:01\n",
      "   --------------------------------- ------ 13.7/16.3 MB 3.6 MB/s eta 0:00:01\n",
      "   --------------------------------- ------ 13.8/16.3 MB 3.6 MB/s eta 0:00:01\n",
      "   ---------------------------------- ----- 13.9/16.3 MB 3.5 MB/s eta 0:00:01\n",
      "   ---------------------------------- ----- 14.2/16.3 MB 3.5 MB/s eta 0:00:01\n",
      "   ---------------------------------- ----- 14.2/16.3 MB 3.5 MB/s eta 0:00:01\n",
      "   ----------------------------------- ---- 14.3/16.3 MB 3.5 MB/s eta 0:00:01\n",
      "   ----------------------------------- ---- 14.3/16.3 MB 3.4 MB/s eta 0:00:01\n",
      "   ----------------------------------- ---- 14.4/16.3 MB 3.4 MB/s eta 0:00:01\n",
      "   ----------------------------------- ---- 14.5/16.3 MB 3.4 MB/s eta 0:00:01\n",
      "   ----------------------------------- ---- 14.6/16.3 MB 3.4 MB/s eta 0:00:01\n",
      "   ----------------------------------- ---- 14.6/16.3 MB 3.4 MB/s eta 0:00:01\n",
      "   ------------------------------------ --- 14.7/16.3 MB 3.3 MB/s eta 0:00:01\n",
      "   ------------------------------------ --- 14.7/16.3 MB 3.3 MB/s eta 0:00:01\n",
      "   ------------------------------------ --- 14.7/16.3 MB 3.2 MB/s eta 0:00:01\n",
      "   ------------------------------------ --- 14.8/16.3 MB 3.2 MB/s eta 0:00:01\n",
      "   ------------------------------------ --- 14.8/16.3 MB 3.2 MB/s eta 0:00:01\n",
      "   ------------------------------------ --- 15.0/16.3 MB 3.2 MB/s eta 0:00:01\n",
      "   ------------------------------------- -- 15.1/16.3 MB 3.2 MB/s eta 0:00:01\n",
      "   ------------------------------------- -- 15.3/16.3 MB 3.2 MB/s eta 0:00:01\n",
      "   ------------------------------------- -- 15.3/16.3 MB 3.2 MB/s eta 0:00:01\n",
      "   ------------------------------------- -- 15.3/16.3 MB 3.2 MB/s eta 0:00:01\n",
      "   ------------------------------------- -- 15.4/16.3 MB 3.2 MB/s eta 0:00:01\n",
      "   -------------------------------------- - 15.5/16.3 MB 3.1 MB/s eta 0:00:01\n",
      "   -------------------------------------- - 15.6/16.3 MB 3.2 MB/s eta 0:00:01\n",
      "   -------------------------------------- - 15.7/16.3 MB 3.1 MB/s eta 0:00:01\n",
      "   ---------------------------------------  16.1/16.3 MB 3.1 MB/s eta 0:00:01\n",
      "   ---------------------------------------  16.1/16.3 MB 3.1 MB/s eta 0:00:01\n",
      "   ---------------------------------------  16.2/16.3 MB 3.1 MB/s eta 0:00:01\n",
      "   ---------------------------------------  16.3/16.3 MB 3.1 MB/s eta 0:00:01\n",
      "   ---------------------------------------  16.3/16.3 MB 3.1 MB/s eta 0:00:01\n",
      "   ---------------------------------------  16.3/16.3 MB 3.1 MB/s eta 0:00:01\n",
      "   ---------------------------------------- 16.3/16.3 MB 2.9 MB/s eta 0:00:00\n",
      "Using cached pytz-2024.1-py2.py3-none-any.whl (505 kB)\n",
      "Using cached tzdata-2024.1-py2.py3-none-any.whl (345 kB)\n",
      "Installing collected packages: pytz, tzdata, numpy, pandas\n",
      "Successfully installed numpy-2.0.1 pandas-2.2.2 pytz-2024.1 tzdata-2024.1\n"
     ]
    },
    {
     "name": "stderr",
     "output_type": "stream",
     "text": [
      "\n",
      "[notice] A new release of pip is available: 24.0 -> 24.2\n",
      "[notice] To update, run: python.exe -m pip install --upgrade pip\n"
     ]
    }
   ],
   "source": [
    "!pip install pandas"
   ]
  },
  {
   "cell_type": "code",
   "execution_count": null,
   "metadata": {},
   "outputs": [],
   "source": [
    "import pandas as pd"
   ]
  },
  {
   "cell_type": "markdown",
   "metadata": {},
   "source": [
    "## Estructuras de datos en Pandas"
   ]
  },
  {
   "cell_type": "markdown",
   "metadata": {},
   "source": [
    "La librería Pandas, de manera genérica, contiene las siguientes estructuras de datos:\n",
    "* **Series**: Array de una dimensión\n",
    "* **DataFrame**: Se corresponde con una tabla de 2 dimensiones\n",
    "* **Panel**: Similar a un diccionario de DataFrames"
   ]
  },
  {
   "cell_type": "markdown",
   "metadata": {},
   "source": [
    "## Creación del objeto Series"
   ]
  },
  {
   "cell_type": "code",
   "execution_count": 1,
   "metadata": {},
   "outputs": [
    {
     "ename": "NameError",
     "evalue": "name 'pd' is not defined",
     "output_type": "error",
     "traceback": [
      "\u001b[1;31m---------------------------------------------------------------------------\u001b[0m",
      "\u001b[1;31mNameError\u001b[0m                                 Traceback (most recent call last)",
      "Cell \u001b[1;32mIn[1], line 2\u001b[0m\n\u001b[0;32m      1\u001b[0m \u001b[38;5;66;03m# Creacion de un objeto Series\u001b[39;00m\n\u001b[1;32m----> 2\u001b[0m s \u001b[38;5;241m=\u001b[39m \u001b[43mpd\u001b[49m\u001b[38;5;241m.\u001b[39mSeries([\u001b[38;5;241m2\u001b[39m, \u001b[38;5;241m4\u001b[39m, \u001b[38;5;241m6\u001b[39m, \u001b[38;5;241m8\u001b[39m, \u001b[38;5;241m10\u001b[39m])\n\u001b[0;32m      3\u001b[0m \u001b[38;5;28mprint\u001b[39m(s)\n",
      "\u001b[1;31mNameError\u001b[0m: name 'pd' is not defined"
     ]
    }
   ],
   "source": [
    "# Creacion de un objeto Series\n",
    "s = pd.Series([2, 4, 6, 8, 10])\n",
    "print(s)"
   ]
  },
  {
   "cell_type": "code",
   "execution_count": null,
   "metadata": {},
   "outputs": [],
   "source": [
    "# Creación de un objeto Series inicializándolo con un diccionario de Python\n",
    "altura = {\"Santiago\": 187, \"Pedro\": 178, \"Julia\": 170, \"Ana\": 165}\n",
    "s = pd.Series(altura)\n",
    "print(s)"
   ]
  },
  {
   "cell_type": "code",
   "execution_count": null,
   "metadata": {},
   "outputs": [],
   "source": [
    "# Creación de un objeto Series inicializándolo con algunos \n",
    "# de los elementos de un diccionario de Python\n",
    "altura = {\"Santiago\": 187, \"Pedro\": 178, \"Julia\": 170, \"Ana\": 165}\n",
    "s = pd.Series(altura, index = [\"Pedro\", \"Julia\"])\n",
    "print(s)"
   ]
  },
  {
   "cell_type": "code",
   "execution_count": null,
   "metadata": {},
   "outputs": [],
   "source": [
    "# Creación de un objeto Series inicializandolo con un escalar\n",
    "s = pd.Series(34, [\"test1\", \"test2\", \"test3\"])\n",
    "print(s)"
   ]
  },
  {
   "cell_type": "markdown",
   "metadata": {},
   "source": [
    "## Acceso a los elementos de un objeto Series"
   ]
  },
  {
   "cell_type": "markdown",
   "metadata": {},
   "source": [
    "Cada elemento en un objeto Series tiene un identificador único que se denomina **_index label_**."
   ]
  },
  {
   "cell_type": "code",
   "execution_count": null,
   "metadata": {},
   "outputs": [],
   "source": [
    "# Creación de un objeto Series\n",
    "s = pd.Series([2, 4, 6, 8], index=[\"num1\", \"num2\", \"num3\", \"num4\"])\n",
    "print(s)"
   ]
  },
  {
   "cell_type": "code",
   "execution_count": null,
   "metadata": {},
   "outputs": [],
   "source": [
    "# Accediendo al tercer elemento del objeto\n",
    "s[\"num3\"]"
   ]
  },
  {
   "cell_type": "code",
   "execution_count": null,
   "metadata": {},
   "outputs": [],
   "source": [
    "# Tambien se puede acceder al elemento por posición\n",
    "s[2]"
   ]
  },
  {
   "cell_type": "code",
   "execution_count": null,
   "metadata": {},
   "outputs": [],
   "source": [
    "# loc es la forma estándar de acceder a un elemento de un objeto Series por atributo\n",
    "s.loc[\"num3\"]"
   ]
  },
  {
   "cell_type": "code",
   "execution_count": null,
   "metadata": {},
   "outputs": [],
   "source": [
    "# iloc es la forma estándar de acceder a un elemento de un objeto Series por posición\n",
    "s.iloc[2]"
   ]
  },
  {
   "cell_type": "code",
   "execution_count": null,
   "metadata": {},
   "outputs": [],
   "source": [
    "# Accediendo al segundo y tercer elemento por posición\n",
    "s.iloc[2:4]"
   ]
  },
  {
   "cell_type": "markdown",
   "metadata": {},
   "source": [
    "## Operaciones aritméticas con Series"
   ]
  },
  {
   "cell_type": "code",
   "execution_count": null,
   "metadata": {},
   "outputs": [],
   "source": [
    "# Creacion de un objeto Series\n",
    "s = pd.Series([2, 4, 6, 8, 10])\n",
    "print(s)"
   ]
  },
  {
   "cell_type": "code",
   "execution_count": null,
   "metadata": {},
   "outputs": [],
   "source": [
    "# Los objeto Series son similares y compatibles con los Arrays de Numpy\n",
    "import numpy as np\n",
    "# Ufunc de Numpy para sumar los elementos de un Array\n",
    "np.sum(s)"
   ]
  },
  {
   "cell_type": "code",
   "execution_count": null,
   "metadata": {},
   "outputs": [],
   "source": [
    "# El resto de operaciones aritméticas de Numpy sobre Arrays también son posibles\n",
    "# Más información al respecto en la Introducción a Numpy\n",
    "s * 2"
   ]
  },
  {
   "cell_type": "markdown",
   "metadata": {},
   "source": [
    "## Representación gráfica de un objeto Series"
   ]
  },
  {
   "cell_type": "code",
   "execution_count": null,
   "metadata": {},
   "outputs": [],
   "source": [
    "# Creación de un objeto Series denominado Temperaturas\n",
    "temperaturas = [4.4, 5.1, 6.1, 6.2, 6.1, 6.1, 5.7, 5.2, 4.7, 4.1, 3.9]\n",
    "s = pd.Series(temperaturas, name=\"Temperaturas\")\n",
    "s"
   ]
  },
  {
   "cell_type": "code",
   "execution_count": null,
   "metadata": {},
   "outputs": [],
   "source": [
    "# Representación gráfica del objeto Series\n",
    "%matplotlib inline\n",
    "import matplotlib.pyplot as plt\n",
    "\n",
    "s.plot()\n",
    "plt.show()"
   ]
  },
  {
   "cell_type": "markdown",
   "metadata": {},
   "source": [
    "## Creación de un objeto DataFrame"
   ]
  },
  {
   "cell_type": "code",
   "execution_count": null,
   "metadata": {},
   "outputs": [],
   "source": [
    "# Creación de un DataFrame inicializándolo con un diccionario de objetios Series\n",
    "personas = {\n",
    "    \"peso\": pd.Series([84, 90, 56, 64], [\"Santiago\",\"Pedro\", \"Ana\", \"Julia\"]),\n",
    "    \"altura\": pd.Series({\"Santiago\": 187, \"Pedro\": 178, \"Julia\": 170, \"Ana\": 165}),\n",
    "    \"hijos\": pd.Series([2, 3], [\"Pedro\", \"Julia\"])\n",
    "}\n",
    "\n",
    "df = pd.DataFrame(personas)\n",
    "df"
   ]
  },
  {
   "cell_type": "markdown",
   "metadata": {},
   "source": [
    "Puede forzarse al DataFrame a que presente unas columnas determinadas y en un orden determinado"
   ]
  },
  {
   "cell_type": "code",
   "execution_count": null,
   "metadata": {},
   "outputs": [],
   "source": [
    "# Creación de un DataFrame inicializándolo con algunos elementos de un diccionario\n",
    "# de objetos Series\n",
    "personas = {\n",
    "    \"peso\": pd.Series([84, 90, 56, 64], [\"Santiago\",\"Pedro\", \"Ana\", \"Julia\"]),\n",
    "    \"altura\": pd.Series({\"Santiago\": 187, \"Pedro\": 178, \"Julia\": 170, \"Ana\": 165}),\n",
    "    \"hijos\": pd.Series([2, 3], [\"Pedro\", \"Julia\"])\n",
    "}\n",
    "\n",
    "df = pd.DataFrame(\n",
    "        personas,\n",
    "        columns = [\"altura\", \"peso\"],\n",
    "        index = [\"Ana\", \"Julia\", \"Santiago\"])\n",
    "df"
   ]
  },
  {
   "cell_type": "code",
   "execution_count": null,
   "metadata": {},
   "outputs": [],
   "source": [
    "# Creación de un DataFrame inicializándolo con una lista de listas de Python\n",
    "# Importante: Deben especificarse las columnas e indices por separado\n",
    "valores = [\n",
    "    [185, 4, 76],\n",
    "    [170, 0, 65],\n",
    "    [190, 1, 89]\n",
    "]\n",
    "\n",
    "df = pd.DataFrame(\n",
    "        valores,\n",
    "        columns = [\"altura\", \"hijos\", \"peso\"],\n",
    "        index = [\"Pedro\", \"Ana\", \"Juan\"])\n",
    "df"
   ]
  },
  {
   "cell_type": "code",
   "execution_count": null,
   "metadata": {},
   "outputs": [],
   "source": [
    "# Creación de un DataFrame inicializándolo con un diccionario de Python\n",
    "personas = {\n",
    "    \"altura\": {\"Santiago\": 187, \"Pedro\": 178, \"Julia\": 170, \"Ana\": 165}, \n",
    "    \"peso\": {\"Santiago\": 87, \"Pedro\": 78, \"Julia\": 70, \"Ana\": 65}}\n",
    "\n",
    "df = pd.DataFrame(personas)\n",
    "df"
   ]
  },
  {
   "cell_type": "markdown",
   "metadata": {},
   "source": [
    "## Acceso a los elementos de un DataFrame"
   ]
  },
  {
   "cell_type": "code",
   "execution_count": null,
   "metadata": {},
   "outputs": [],
   "source": [
    "# Creación de un DataFrame inicializándolo con un diccionario de objetios Series\n",
    "personas = {\n",
    "    \"peso\": pd.Series([84, 90, 56, 64], [\"Santiago\",\"Pedro\", \"Ana\", \"Julia\"]),\n",
    "    \"altura\": pd.Series({\"Santiago\": 187, \"Pedro\": 178, \"Julia\": 170, \"Ana\": 165}),\n",
    "    \"hijos\": pd.Series([2, 3], [\"Pedro\", \"Julia\"])\n",
    "}\n",
    "\n",
    "df = pd.DataFrame(personas)\n",
    "df"
   ]
  },
  {
   "cell_type": "markdown",
   "metadata": {},
   "source": [
    "### Acceso a los elementos de las columnas del DataFrame"
   ]
  },
  {
   "cell_type": "code",
   "execution_count": null,
   "metadata": {},
   "outputs": [],
   "source": [
    "df[\"peso\"]"
   ]
  },
  {
   "cell_type": "code",
   "execution_count": null,
   "metadata": {
    "scrolled": true
   },
   "outputs": [],
   "source": [
    "df[[\"peso\", \"altura\"]]"
   ]
  },
  {
   "cell_type": "code",
   "execution_count": null,
   "metadata": {},
   "outputs": [],
   "source": [
    "# Pueden combinarse los metodos anteriores con expresiones booleanas\n",
    "df[df[\"peso\"] > 80]"
   ]
  },
  {
   "cell_type": "code",
   "execution_count": null,
   "metadata": {},
   "outputs": [],
   "source": [
    "# Pueden combinarse los metodos anteriores con expresiones booleanas\n",
    "df[(df[\"peso\"] > 80) & (df[\"altura\"] > 180)]"
   ]
  },
  {
   "cell_type": "markdown",
   "metadata": {},
   "source": [
    "### Acceso a los elementos de las filas del DataFrame"
   ]
  },
  {
   "cell_type": "code",
   "execution_count": null,
   "metadata": {},
   "outputs": [],
   "source": [
    "# Mostrar el DataFrame\n",
    "df"
   ]
  },
  {
   "cell_type": "code",
   "execution_count": null,
   "metadata": {},
   "outputs": [],
   "source": [
    "df.loc[\"Pedro\"]"
   ]
  },
  {
   "cell_type": "code",
   "execution_count": null,
   "metadata": {},
   "outputs": [],
   "source": [
    "df.iloc[2]"
   ]
  },
  {
   "cell_type": "code",
   "execution_count": null,
   "metadata": {},
   "outputs": [],
   "source": [
    "df.iloc[1:3]"
   ]
  },
  {
   "cell_type": "markdown",
   "metadata": {},
   "source": [
    "### Consulta avanzada de los elementos de un DataFrame"
   ]
  },
  {
   "cell_type": "code",
   "execution_count": null,
   "metadata": {},
   "outputs": [],
   "source": [
    "# Mostrar el DataFrame\n",
    "df"
   ]
  },
  {
   "cell_type": "code",
   "execution_count": null,
   "metadata": {},
   "outputs": [],
   "source": [
    "df.query(\"altura >= 170 and peso > 60\")"
   ]
  },
  {
   "cell_type": "markdown",
   "metadata": {},
   "source": [
    "## Copiar un DataFrame"
   ]
  },
  {
   "cell_type": "code",
   "execution_count": null,
   "metadata": {},
   "outputs": [],
   "source": [
    "# Creación de un DataFrame inicializándolo con un diccionario de objetios Series\n",
    "personas = {\n",
    "    \"peso\": pd.Series([84, 90, 56, 64], [\"Santiago\",\"Pedro\", \"Ana\", \"Julia\"]),\n",
    "    \"altura\": pd.Series({\"Santiago\": 187, \"Pedro\": 178, \"Julia\": 170, \"Ana\": 165}),\n",
    "    \"hijos\": pd.Series([2, 3], [\"Pedro\", \"Julia\"])\n",
    "}\n",
    "\n",
    "df = pd.DataFrame(personas)\n",
    "df"
   ]
  },
  {
   "cell_type": "code",
   "execution_count": null,
   "metadata": {},
   "outputs": [],
   "source": [
    "# Copia del DataFrame df en df_copy\n",
    "# Importante: Al modificar un elemento de df_copy no se modifica df\n",
    "df_copy = df.copy()"
   ]
  },
  {
   "cell_type": "markdown",
   "metadata": {},
   "source": [
    "## Modificación de un DataFrame"
   ]
  },
  {
   "cell_type": "code",
   "execution_count": null,
   "metadata": {},
   "outputs": [],
   "source": [
    "# Creación de un DataFrame inicializándolo con un diccionario de objetios Series\n",
    "personas = {\n",
    "    \"peso\": pd.Series([84, 90, 56, 64], [\"Santiago\",\"Pedro\", \"Ana\", \"Julia\"]),\n",
    "    \"altura\": pd.Series({\"Santiago\": 187, \"Pedro\": 178, \"Julia\": 170, \"Ana\": 165}),\n",
    "    \"hijos\": pd.Series([2, 3], [\"Pedro\", \"Julia\"])\n",
    "}\n",
    "\n",
    "df = pd.DataFrame(personas)\n",
    "df"
   ]
  },
  {
   "cell_type": "code",
   "execution_count": null,
   "metadata": {},
   "outputs": [],
   "source": [
    "# Añadir una nueva columna al DataFrame\n",
    "df[\"cumpleaños\"] = [1990, 1987, 1980, 1994]\n",
    "df"
   ]
  },
  {
   "cell_type": "code",
   "execution_count": null,
   "metadata": {},
   "outputs": [],
   "source": [
    "# Añadir una nueva columna calculada al DataFrame\n",
    "df[\"años\"] = 2020 - df[\"cumpleaños\"]\n",
    "df"
   ]
  },
  {
   "cell_type": "code",
   "execution_count": null,
   "metadata": {},
   "outputs": [],
   "source": [
    "# Añadir una nueva columna creando un DataFrame nuevo\n",
    "df_mod = df.assign(mascotas = [1, 3, 0, 0])\n",
    "df_mod"
   ]
  },
  {
   "cell_type": "code",
   "execution_count": null,
   "metadata": {},
   "outputs": [],
   "source": [
    "df"
   ]
  },
  {
   "cell_type": "code",
   "execution_count": null,
   "metadata": {},
   "outputs": [],
   "source": [
    "# Eliminar una columna existente del DataFrame\n",
    "del df[\"peso\"]\n",
    "df"
   ]
  },
  {
   "cell_type": "code",
   "execution_count": null,
   "metadata": {},
   "outputs": [],
   "source": [
    "# Eliminar una columna existente devolviendo una copia del DataFrame resultante\n",
    "df_mod = df.drop([\"hijos\"], axis=1)\n",
    "df_mod"
   ]
  },
  {
   "cell_type": "code",
   "execution_count": null,
   "metadata": {},
   "outputs": [],
   "source": [
    "df"
   ]
  },
  {
   "cell_type": "markdown",
   "metadata": {},
   "source": [
    "## Evaluación de expresiones sobre un DataFrame"
   ]
  },
  {
   "cell_type": "code",
   "execution_count": null,
   "metadata": {},
   "outputs": [],
   "source": [
    "# Creación de un DataFrame inicializándolo con un diccionario de objetios Series\n",
    "personas = {\n",
    "    \"peso\": pd.Series([84, 90, 56, 64], [\"Santiago\",\"Pedro\", \"Ana\", \"Julia\"]),\n",
    "    \"altura\": pd.Series({\"Santiago\": 187, \"Pedro\": 178, \"Julia\": 170, \"Ana\": 165}),\n",
    "    \"hijos\": pd.Series([2, 3], [\"Pedro\", \"Julia\"])\n",
    "}\n",
    "\n",
    "df = pd.DataFrame(personas)\n",
    "df"
   ]
  },
  {
   "cell_type": "code",
   "execution_count": null,
   "metadata": {},
   "outputs": [],
   "source": [
    "# Evaluar una función sobre una columna del DataFrame\n",
    "df.eval(\"altura / 2\")"
   ]
  },
  {
   "cell_type": "code",
   "execution_count": null,
   "metadata": {},
   "outputs": [],
   "source": [
    "# Asignar el valor resultante como una nueva columna\n",
    "df.eval(\"media_altura = altura / 2\", inplace=True)\n",
    "df"
   ]
  },
  {
   "cell_type": "code",
   "execution_count": null,
   "metadata": {},
   "outputs": [],
   "source": [
    "# Evaluar una función utilizando una variable local\n",
    "max_altura = 180\n",
    "\n",
    "df.eval(\"altura > @max_altura\")"
   ]
  },
  {
   "cell_type": "code",
   "execution_count": null,
   "metadata": {},
   "outputs": [],
   "source": [
    "# Aplicar una función externa a una columna del DataFrame\n",
    "def func(x):\n",
    "    return x + 2\n",
    "\n",
    "df[\"peso\"].apply(func)"
   ]
  },
  {
   "cell_type": "code",
   "execution_count": null,
   "metadata": {},
   "outputs": [],
   "source": [
    "df"
   ]
  },
  {
   "cell_type": "markdown",
   "metadata": {},
   "source": [
    "## Guardar y Cargar el DataFrame"
   ]
  },
  {
   "cell_type": "code",
   "execution_count": null,
   "metadata": {},
   "outputs": [],
   "source": [
    "# Creación de un DataFrame inicializándolo con un diccionario de objetios Series\n",
    "personas = {\n",
    "    \"peso\": pd.Series([84, 90, 56, 64], [\"Santiago\",\"Pedro\", \"Ana\", \"Julia\"]),\n",
    "    \"altura\": pd.Series({\"Santiago\": 187, \"Pedro\": 178, \"Julia\": 170, \"Ana\": 165}),\n",
    "    \"hijos\": pd.Series([2, 3], [\"Pedro\", \"Julia\"])\n",
    "}\n",
    "\n",
    "df = pd.DataFrame(personas)\n",
    "df"
   ]
  },
  {
   "cell_type": "code",
   "execution_count": null,
   "metadata": {},
   "outputs": [],
   "source": [
    "# Guardar el DataFrame como CSV, HTML y JSON\n",
    "df.to_csv(\"df_personas.csv\")\n",
    "df.to_html(\"df_personas.html\")\n",
    "df.to_json(\"df_personas.json\")"
   ]
  },
  {
   "cell_type": "code",
   "execution_count": null,
   "metadata": {},
   "outputs": [],
   "source": [
    "# Cargar el DataFrame en Jupyter\n",
    "df2 = pd.read_csv(\"df_personas.csv\")"
   ]
  },
  {
   "cell_type": "code",
   "execution_count": null,
   "metadata": {},
   "outputs": [],
   "source": [
    "df2"
   ]
  },
  {
   "cell_type": "code",
   "execution_count": null,
   "metadata": {},
   "outputs": [],
   "source": [
    "# Cargar el DataFrame con la primera columna correctamente asignada\n",
    "df2 = pd.read_csv(\"df_personas.csv\", index_col=0)\n",
    "df2"
   ]
  },
  {
   "cell_type": "code",
   "execution_count": null,
   "metadata": {},
   "outputs": [],
   "source": []
  }
 ],
 "metadata": {
  "kernelspec": {
   "display_name": "Python 3",
   "language": "python",
   "name": "python3"
  },
  "language_info": {
   "codemirror_mode": {
    "name": "ipython",
    "version": 3
   },
   "file_extension": ".py",
   "mimetype": "text/x-python",
   "name": "python",
   "nbconvert_exporter": "python",
   "pygments_lexer": "ipython3",
   "version": "3.12.2"
  }
 },
 "nbformat": 4,
 "nbformat_minor": 2
}
